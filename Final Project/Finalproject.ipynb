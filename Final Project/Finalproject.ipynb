{
  "nbformat": 4,
  "nbformat_minor": 0,
  "metadata": {
    "colab": {
      "name": "Finalproject.ipynb",
      "provenance": [],
      "collapsed_sections": []
    },
    "kernelspec": {
      "name": "python3",
      "display_name": "Python 3"
    }
  },
  "cells": [
    {
      "cell_type": "markdown",
      "metadata": {
        "id": "gqb22GqA0Rgi"
      },
      "source": [
        "## **Final Project**"
      ]
    },
    {
      "cell_type": "code",
      "metadata": {
        "colab": {
          "base_uri": "https://localhost:8080/"
        },
        "id": "Zv-0LCoYmKN2",
        "outputId": "8d8f5bb9-070a-4b20-dff6-6542925df9a1"
      },
      "source": [
        "class employees():\r\n",
        "    def __init__(self, name, age):\r\n",
        "        self.name = name\r\n",
        "        self.age = age\r\n",
        "        self.language = []\r\n",
        "        \r\n",
        "    def welcomePerson(self):\r\n",
        "        print(\"Hello\",self.name)\r\n",
        "\r\n",
        "    def showAge(self):\r\n",
        "        print(self.age)\r\n",
        "        \r\n",
        "    def addLanguage(self,new_lang):\r\n",
        "        print(\"Adding new language\")\r\n",
        "        self.language.append(new_lang)\r\n",
        "    def showInfo(self):\r\n",
        "        print(\"{} is an employee, he/she is {} years old\".format(self.name,self.age))\r\n",
        "        print(\"He can speak:\")\r\n",
        "        for i in self.language:\r\n",
        "              print(i)\r\n",
        "\r\n",
        "class managers():\r\n",
        "    def __init__(self, name, age):\r\n",
        "        self.name = name\r\n",
        "        self.age = age\r\n",
        "        self.language = []\r\n",
        "        \r\n",
        "    def welcomePerson(self):\r\n",
        "        print(\"Hello\",self.name)\r\n",
        "    \r\n",
        "    def showAge(self):\r\n",
        "        print(self.age)\r\n",
        "        \r\n",
        "    def addLanguage(self,new_lang):\r\n",
        "        print(\"Adding new language\")\r\n",
        "        self.language.append(new_lang)\r\n",
        "    def showInfo(self):\r\n",
        "        print(\"{} is a manager, he/she is {} years old.\".format(self.name,self.age))\r\n",
        "        print(\"He can speak:\")\r\n",
        "        for i in self.language:\r\n",
        "              print(i)  \r\n",
        "\r\n",
        "employee1 = employees(\"Mehmet\",23)\r\n",
        "employee1.addLanguage(\"Turkish\")\r\n",
        "\r\n",
        "employee2 = employees(\"Ahmet\",30)\r\n",
        "employee2.addLanguage(\"English\"), employee2.addLanguage(\"Turkish\") \r\n",
        "\r\n",
        "\r\n",
        "manager1 = managers(\"Cem\",43)\r\n",
        "manager1.addLanguage(\"Turkish\")\r\n",
        "manager1.addLanguage(\"English\")\r\n",
        "manager1.addLanguage(\"German\")\r\n",
        "\r\n",
        "\r\n",
        "\r\n",
        "print(employee1.showInfo())  \r\n",
        "print(employee2.showInfo()) \r\n",
        "print(manager1.showInfo())                      \r\n"
      ],
      "execution_count": 35,
      "outputs": [
        {
          "output_type": "stream",
          "text": [
            "Adding new language\n",
            "Adding new language\n",
            "Adding new language\n",
            "Adding new language\n",
            "Adding new language\n",
            "Adding new language\n",
            "Mehmet is an employee, he/she is 23 years old\n",
            "He can speak:\n",
            "Turkish\n",
            "None\n",
            "Ahmet is an employee, he/she is 30 years old\n",
            "He can speak:\n",
            "English\n",
            "Turkish\n",
            "None\n",
            "Cem is a manager, he/she is 43 years old.\n",
            "He can speak:\n",
            "Turkish\n",
            "English\n",
            "German\n",
            "None\n"
          ],
          "name": "stdout"
        }
      ]
    }
  ]
}