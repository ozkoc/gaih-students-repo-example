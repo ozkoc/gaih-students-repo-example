{
  "nbformat": 4,
  "nbformat_minor": 0,
  "metadata": {
    "colab": {
      "name": "Homework4.ipynb",
      "provenance": [],
      "collapsed_sections": [],
      "authorship_tag": "ABX9TyOF03CvWJIoNLgDeWauyPc+",
      "include_colab_link": true
    },
    "kernelspec": {
      "name": "python3",
      "display_name": "Python 3"
    }
  },
  "cells": [
    {
      "cell_type": "markdown",
      "metadata": {
        "id": "view-in-github",
        "colab_type": "text"
      },
      "source": [
        "<a href=\"https://colab.research.google.com/github/ozkoc/gaih-students-repo-example/blob/main/Homework4.ipynb\" target=\"_parent\"><img src=\"https://colab.research.google.com/assets/colab-badge.svg\" alt=\"Open In Colab\"/></a>"
      ]
    },
    {
      "cell_type": "code",
      "metadata": {
        "colab": {
          "base_uri": "https://localhost:8080/"
        },
        "id": "wllkyRpZ95Kf",
        "outputId": "caafbccf-0468-4194-b7a4-ee60c1e68ddf"
      },
      "source": [
        "class Animals:\r\n",
        "  def __init__(self,name,age,color):\r\n",
        "      self.name = name\r\n",
        "      self.age = age\r\n",
        "      self.color = color\r\n",
        "  \r\n",
        "  def print_name(self):\r\n",
        "      print(\"The name of animal is \", self.name)\r\n",
        "  \r\n",
        "  def print_age(self):\r\n",
        "      print(\"The age of animal is \", self.age)\r\n",
        "  \r\n",
        "  def print_color(self):\r\n",
        "      print(\"The color of animal is \", self.color)    \r\n",
        "\r\n",
        "class Dogs(Animals):\r\n",
        "  def __init__(self,origin,tale):\r\n",
        "      self.origin = origin\r\n",
        "      self.tale = tale      \r\n",
        "      \r\n",
        "class Cats(Animals):\r\n",
        "  def __init__(self,origin,tale):\r\n",
        "      self.origin = origin\r\n",
        "      self.tale = tale \r\n",
        "\r\n",
        "dog = Dogs(\"German\", \"No tale\")\r\n",
        "dog.print_name = \"Archie\"\r\n",
        "dog.print_color = \"Black\"\r\n",
        "dog.print_age = 6 \r\n",
        "\r\n",
        "cat = Cats(\"Iran\", \"with tale\")\r\n",
        "cat.print_name = \"Miti\"\r\n",
        "cat.print_color = \"Gray\"\r\n",
        "cat.print_age = 3 \r\n",
        "\r\n",
        "print(cat.print_name, cat.print_color, cat.print_age, cat.tale, cat.origin)\r\n",
        "print(dog.print_name, dog.print_color, dog.print_age, dog.tale, dog.origin)"
      ],
      "execution_count": 27,
      "outputs": [
        {
          "output_type": "stream",
          "text": [
            "Miti Gray 3 with tale Iran\n",
            "Archie Black 6 No tale German\n"
          ],
          "name": "stdout"
        }
      ]
    }
  ]
}