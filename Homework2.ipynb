{
  "nbformat": 4,
  "nbformat_minor": 0,
  "metadata": {
    "colab": {
      "name": "Homework2.ipynb",
      "provenance": [],
      "authorship_tag": "ABX9TyM+1mWfafOCOtt7J1LmmdEs",
      "include_colab_link": true
    },
    "kernelspec": {
      "name": "python3",
      "display_name": "Python 3"
    }
  },
  "cells": [
    {
      "cell_type": "markdown",
      "metadata": {
        "id": "view-in-github",
        "colab_type": "text"
      },
      "source": [
        "<a href=\"https://colab.research.google.com/github/ozkoc/gaih-students-repo-example/blob/main/Homework2.ipynb\" target=\"_parent\"><img src=\"https://colab.research.google.com/assets/colab-badge.svg\" alt=\"Open In Colab\"/></a>"
      ]
    },
    {
      "cell_type": "markdown",
      "metadata": {
        "id": "JYBLBtfW7lsE"
      },
      "source": [
        "# **Day-3 Homework ** \r\n",
        "User login application:"
      ]
    },
    {
      "cell_type": "code",
      "metadata": {
        "colab": {
          "base_uri": "https://localhost:8080/"
        },
        "id": "c7vsEje47x8S",
        "outputId": "c3ca9a76-7e70-4373-e12d-d96ec0bff717"
      },
      "source": [
        "user_entered = input(\"Please enter your username... : \")\r\n",
        "pass_entered = input(\"Please enter your password... : \")\r\n",
        "username = \"makifist\"\r\n",
        "password = \"glob123\"\r\n",
        "\r\n",
        "if user_entered == username and pass_entered == password:\r\n",
        "  print(\"Successfully logged in!\")\r\n",
        "elif user_entered == username and pass_entered != password:\r\n",
        "  print(\"Password is not correct!\")\r\n",
        "elif user_entered != username and pass_entered == password:\r\n",
        "  print(\"Username is not correct\")\r\n",
        "else:\r\n",
        "  print(\"Username and Password is both not correct!\")       "
      ],
      "execution_count": 4,
      "outputs": [
        {
          "output_type": "stream",
          "text": [
            "Please enter your username... : makifist\n",
            "Please enter your password... : glob123\n",
            "Successfully logged in!\n"
          ],
          "name": "stdout"
        }
      ]
    },
    {
      "cell_type": "markdown",
      "metadata": {
        "id": "6WB7nsrSMs5Y"
      },
      "source": [
        "Extra"
      ]
    },
    {
      "cell_type": "code",
      "metadata": {
        "colab": {
          "base_uri": "https://localhost:8080/"
        },
        "id": "h7QahWrfMxO1",
        "outputId": "968a96e9-4b5e-4b2f-e603-8c2433842c62"
      },
      "source": [
        "user_entered = input(\"Please enter your username... : \")\r\n",
        "pass_entered = input(\"Please enter your password... : \")\r\n",
        "dict = {username : \"makifist\" , password : \"glob123\"}\r\n",
        "if user_entered == dict[username] and pass_entered == dict[password]:\r\n",
        "  print(\"Successfully logged in!\")\r\n",
        "elif user_entered == dict[username] and pass_entered != dict[password]:\r\n",
        "  print(\"Password is not correct!\")\r\n",
        "elif user_entered != dict[username] and pass_entered == dict[password]:\r\n",
        "  print(\"Username is not correct!\")  \r\n",
        "else:\r\n",
        "  print(\"Username and Password is not correct!\") \r\n"
      ],
      "execution_count": 15,
      "outputs": [
        {
          "output_type": "stream",
          "text": [
            "Please enter your username... : makifist\n",
            "Please enter your password... : asd\n",
            "Password is not correct!\n"
          ],
          "name": "stdout"
        }
      ]
    }
  ]
}