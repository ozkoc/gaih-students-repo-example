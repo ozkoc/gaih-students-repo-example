{
  "nbformat": 4,
  "nbformat_minor": 0,
  "metadata": {
    "colab": {
      "name": "Homework1.ipynb",
      "provenance": [],
      "collapsed_sections": []
    },
    "kernelspec": {
      "name": "python3",
      "display_name": "Python 3"
    }
  },
  "cells": [
    {
      "cell_type": "markdown",
      "metadata": {
        "id": "UIGzgqS3_DFs"
      },
      "source": [
        "## Day-2 Homework \r\n",
        "1)"
      ]
    },
    {
      "cell_type": "code",
      "metadata": {
        "colab": {
          "base_uri": "https://localhost:8080/"
        },
        "id": "KN8C9yT7_TV7",
        "outputId": "dbc1fc6d-258e-4d09-c6d2-4cfaf197b2f9"
      },
      "source": [
        "list1= list(range(1,11))\r\n",
        "new_list = list1[-(int(len(list1)/2)):] + list1[:(int(len(list1)/2))]\r\n",
        "\r\n",
        "print(\"Defined list is: \", list1)\r\n",
        "print(\"Swaped list is: \", new_list)\r\n"
      ],
      "execution_count": 49,
      "outputs": [
        {
          "output_type": "stream",
          "text": [
            "Defined list is:  [1, 2, 3, 4, 5, 6, 7, 8, 9, 10]\n",
            "Swaped list is:  [6, 7, 8, 9, 10, 1, 2, 3, 4, 5]\n"
          ],
          "name": "stdout"
        }
      ]
    },
    {
      "cell_type": "markdown",
      "metadata": {
        "id": "YNRIEXD8_Vpc"
      },
      "source": [
        "**2)**"
      ]
    },
    {
      "cell_type": "code",
      "metadata": {
        "colab": {
          "base_uri": "https://localhost:8080/"
        },
        "id": "ki64auBNVmC2",
        "outputId": "6470be7c-9cbd-43d4-8791-c62d8408a891"
      },
      "source": [
        "n = int(input(\"Please enter a single digit integer:\"))\r\n",
        "liste1 = [i for i in list(range(n+1)) if i%2==0]\r\n",
        "\r\n",
        "print(liste1)"
      ],
      "execution_count": 50,
      "outputs": [
        {
          "output_type": "stream",
          "text": [
            "Please enter a single digit integer:20\n",
            "[0, 2, 4, 6, 8, 10, 12, 14, 16, 18, 20]\n"
          ],
          "name": "stdout"
        }
      ]
    }
  ]
}