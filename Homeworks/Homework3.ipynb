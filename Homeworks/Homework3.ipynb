{
  "nbformat": 4,
  "nbformat_minor": 0,
  "metadata": {
    "colab": {
      "name": "homework3.ipynb",
      "provenance": []
    },
    "kernelspec": {
      "name": "python3",
      "display_name": "Python 3"
    }
  },
  "cells": [
    {
      "cell_type": "code",
      "metadata": {
        "colab": {
          "base_uri": "https://localhost:8080/"
        },
        "id": "WjsRrCMUrujV",
        "outputId": "f9ad96d8-c999-4ad3-9555-54f3120d8d60"
      },
      "source": [
        "def isPrime(x,y):\r\n",
        "   for num in range(x+2, y):\r\n",
        "       for i in range(x+2, num):\r\n",
        "           if (num % i) == 0:\r\n",
        "               break\r\n",
        "       else:\r\n",
        "           print(num)\r\n",
        " \r\n",
        "print(\"Prime numbers between 0 and 100 are \", isPrime(0,100))          "
      ],
      "execution_count": 61,
      "outputs": [
        {
          "output_type": "stream",
          "text": [
            "2\n",
            "3\n",
            "5\n",
            "7\n",
            "11\n",
            "13\n",
            "17\n",
            "19\n",
            "23\n",
            "29\n",
            "31\n",
            "37\n",
            "41\n",
            "43\n",
            "47\n",
            "53\n",
            "59\n",
            "61\n",
            "67\n",
            "71\n",
            "73\n",
            "79\n",
            "83\n",
            "89\n",
            "97\n",
            "Prime numbers between 0 and 100 are  None\n"
          ],
          "name": "stdout"
        }
      ]
    }
  ]
}